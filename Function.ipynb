{
 "cells": [
  {
   "cell_type": "markdown",
   "id": "b7866502",
   "metadata": {},
   "source": [
    "# Function"
   ]
  },
  {
   "cell_type": "code",
   "execution_count": 11,
   "id": "158f0c64",
   "metadata": {},
   "outputs": [
    {
     "name": "stdout",
     "output_type": "stream",
     "text": [
      "44.25\n",
      "44.25\n"
     ]
    }
   ],
   "source": [
    "marks = [23,34,45,75]\n",
    "\n",
    "per1= (sum(marks)/400)*100\n",
    "per2= ((marks[0] + marks[1] + marks[2] + marks[3])/400)*100\n",
    "\n",
    "print(per1)\n",
    "print(per2)\n",
    "\n"
   ]
  },
  {
   "cell_type": "code",
   "execution_count": 15,
   "id": "72956c34",
   "metadata": {},
   "outputs": [
    {
     "name": "stdout",
     "output_type": "stream",
     "text": [
      "69.5 67.75\n"
     ]
    }
   ],
   "source": [
    "def percent(marks):\n",
    "    return ((marks[0] + marks[1] + marks[2] + marks[3])/400)*100\n",
    "\n",
    "marks1 = [63,71,69,75]\n",
    "percentage1 = percent(marks1)\n",
    "\n",
    "marks2 = [77,70,59,65]\n",
    "percentage2 = percent(marks2)\n",
    "\n",
    "print(percentage1, percentage2)\n"
   ]
  },
  {
   "cell_type": "code",
   "execution_count": 17,
   "id": "d1cd86b5",
   "metadata": {},
   "outputs": [
    {
     "name": "stdout",
     "output_type": "stream",
     "text": [
      "Good Day, Harry\n",
      "Good Day, Ankur\n"
     ]
    }
   ],
   "source": [
    "def greet(name):\n",
    "    print(\"Good Day, \" + name)\n",
    "    \n",
    "greet(\"Harry\")\n",
    "greet(\"Ankur\")"
   ]
  },
  {
   "cell_type": "markdown",
   "id": "7c06cd8e",
   "metadata": {},
   "source": [
    "# Types of function\n",
    "1. built in function\n",
    "2. user defined function"
   ]
  },
  {
   "cell_type": "markdown",
   "id": "cb26c768",
   "metadata": {},
   "source": [
    "# Fuction with arguments"
   ]
  },
  {
   "cell_type": "code",
   "execution_count": 20,
   "id": "087f87f3",
   "metadata": {},
   "outputs": [
    {
     "name": "stdout",
     "output_type": "stream",
     "text": [
      "Hello Harry\n"
     ]
    }
   ],
   "source": [
    "def greet(name):\n",
    "    gr = \"Hello \"+ name\n",
    "    return gr\n",
    "\n",
    "print(greet(\"Harry\"))"
   ]
  },
  {
   "cell_type": "markdown",
   "id": "b4c2c1a0",
   "metadata": {},
   "source": [
    "# Default arameter Value"
   ]
  },
  {
   "cell_type": "code",
   "execution_count": 22,
   "id": "0b977c52",
   "metadata": {},
   "outputs": [
    {
     "name": "stdout",
     "output_type": "stream",
     "text": [
      "Hello Stranger\n",
      "Hello Harry\n"
     ]
    }
   ],
   "source": [
    "def greet(name = \"Stranger\"):\n",
    "    gr = \"Hello \"+ name\n",
    "    return gr\n",
    "\n",
    "print(greet())\n",
    "print(greet(\"Harry\"))"
   ]
  },
  {
   "cell_type": "markdown",
   "id": "b9c42faa",
   "metadata": {},
   "source": [
    "Stranger will be default value, when no argument is passed by function."
   ]
  },
  {
   "cell_type": "code",
   "execution_count": null,
   "id": "fd10d0d0",
   "metadata": {},
   "outputs": [],
   "source": []
  },
  {
   "cell_type": "code",
   "execution_count": null,
   "id": "106a96a1",
   "metadata": {},
   "outputs": [],
   "source": []
  },
  {
   "cell_type": "code",
   "execution_count": null,
   "id": "4acebd87",
   "metadata": {},
   "outputs": [],
   "source": []
  },
  {
   "cell_type": "code",
   "execution_count": null,
   "id": "a71772c0",
   "metadata": {},
   "outputs": [],
   "source": []
  },
  {
   "cell_type": "code",
   "execution_count": null,
   "id": "1dc3bea5",
   "metadata": {},
   "outputs": [],
   "source": []
  },
  {
   "cell_type": "code",
   "execution_count": null,
   "id": "d29732f3",
   "metadata": {},
   "outputs": [],
   "source": []
  },
  {
   "cell_type": "code",
   "execution_count": null,
   "id": "3e4f9c08",
   "metadata": {},
   "outputs": [],
   "source": []
  },
  {
   "cell_type": "code",
   "execution_count": null,
   "id": "2bd1e79e",
   "metadata": {},
   "outputs": [],
   "source": []
  },
  {
   "cell_type": "code",
   "execution_count": null,
   "id": "e0cc7a0d",
   "metadata": {},
   "outputs": [],
   "source": []
  }
 ],
 "metadata": {
  "kernelspec": {
   "display_name": "Python 3 (ipykernel)",
   "language": "python",
   "name": "python3"
  },
  "language_info": {
   "codemirror_mode": {
    "name": "ipython",
    "version": 3
   },
   "file_extension": ".py",
   "mimetype": "text/x-python",
   "name": "python",
   "nbconvert_exporter": "python",
   "pygments_lexer": "ipython3",
   "version": "3.8.6"
  }
 },
 "nbformat": 4,
 "nbformat_minor": 5
}
