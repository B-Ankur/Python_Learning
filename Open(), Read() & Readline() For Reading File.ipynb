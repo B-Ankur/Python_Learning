{
 "cells": [
  {
   "cell_type": "markdown",
   "id": "04171262",
   "metadata": {},
   "source": [
    "# Open(), Read() & Readline() For Reading File"
   ]
  },
  {
   "cell_type": "markdown",
   "id": "31f747d2",
   "metadata": {},
   "source": [
    "https://www.codewithharry.com/videos/python-tutorials-for-absolute-beginners-26"
   ]
  },
  {
   "cell_type": "code",
   "execution_count": 3,
   "id": "1f6f2927",
   "metadata": {},
   "outputs": [
    {
     "data": {
      "text/plain": [
       "<_io.TextIOWrapper name='harry.txt' mode='r' encoding='cp1252'>"
      ]
     },
     "execution_count": 3,
     "metadata": {},
     "output_type": "execute_result"
    }
   ],
   "source": [
    "open(\"harry.txt\")"
   ]
  },
  {
   "cell_type": "code",
   "execution_count": null,
   "id": "6bbb0d9b",
   "metadata": {},
   "outputs": [],
   "source": [
    ".. Text document will be open, but unable to see content"
   ]
  },
  {
   "cell_type": "code",
   "execution_count": 9,
   "id": "1174f925",
   "metadata": {},
   "outputs": [
    {
     "name": "stdout",
     "output_type": "stream",
     "text": [
      "Harry is a good boy.\n",
      "la.. lala lala lalal lalal\n",
      "I am the king of universe\n"
     ]
    },
    {
     "data": {
      "text/plain": [
       "<function TextIOWrapper.close()>"
      ]
     },
     "execution_count": 9,
     "metadata": {},
     "output_type": "execute_result"
    }
   ],
   "source": [
    "f = open(\"Harry.txt\", \"r\")\n",
    "content = f.read()\n",
    "print(content)\n",
    "\n",
    "\n",
    "f.close"
   ]
  },
  {
   "cell_type": "markdown",
   "id": "5018eef1",
   "metadata": {},
   "source": [
    ".. f is file pointer"
   ]
  },
  {
   "cell_type": "code",
   "execution_count": 8,
   "id": "5c4e15b1",
   "metadata": {},
   "outputs": [
    {
     "name": "stdout",
     "output_type": "stream",
     "text": [
      "b'Harry is a good boy.\\nla.. lala lala lalal lalal\\nI am the king of universe'\n"
     ]
    },
    {
     "data": {
      "text/plain": [
       "<function BufferedReader.close>"
      ]
     },
     "execution_count": 8,
     "metadata": {},
     "output_type": "execute_result"
    }
   ],
   "source": [
    "f = open(\"Harry.txt\", \"rb\")\n",
    "content = f.read()\n",
    "print(content)\n",
    "\n",
    "\n",
    "f.close"
   ]
  },
  {
   "cell_type": "markdown",
   "id": "03a1a25c",
   "metadata": {},
   "source": [
    "..rb denotes read binary\n",
    "..rt denotes read text(default)"
   ]
  },
  {
   "cell_type": "code",
   "execution_count": 23,
   "id": "09eb814c",
   "metadata": {},
   "outputs": [
    {
     "name": "stdout",
     "output_type": "stream",
     "text": [
      "Harry is\n",
      " a go\n"
     ]
    },
    {
     "data": {
      "text/plain": [
       "<function TextIOWrapper.close()>"
      ]
     },
     "execution_count": 23,
     "metadata": {},
     "output_type": "execute_result"
    }
   ],
   "source": [
    "f = open(\"Harry.txt\", \"r\")\n",
    "content = f.read(8)\n",
    "print(content)\n",
    "\n",
    "content = f.read(5)\n",
    "print(content)\n",
    "\n",
    "f.close"
   ]
  },
  {
   "cell_type": "markdown",
   "id": "69eeb589",
   "metadata": {},
   "source": [
    "f.read(8) display first 8 character."
   ]
  },
  {
   "cell_type": "code",
   "execution_count": 28,
   "id": "f059dc43",
   "metadata": {},
   "outputs": [
    {
     "name": "stdout",
     "output_type": "stream",
     "text": [
      "H\n",
      "a\n",
      "r\n",
      "r\n",
      "y\n"
     ]
    }
   ],
   "source": [
    "f = open(\"Harry.txt\", \"r\")\n",
    "content = f.read(5)\n",
    "\n",
    "for line in content:\n",
    "    print(line)"
   ]
  },
  {
   "cell_type": "markdown",
   "id": "0ca922f0",
   "metadata": {},
   "source": [
    "... print each character line by line  "
   ]
  },
  {
   "cell_type": "code",
   "execution_count": 30,
   "id": "320583cb",
   "metadata": {},
   "outputs": [
    {
     "name": "stdout",
     "output_type": "stream",
     "text": [
      "Harry is a good boy.\n",
      "\n",
      "la.. lala lala lalal lalal\n",
      "\n",
      "I am the king of universe\n"
     ]
    }
   ],
   "source": [
    "f = open(\"Harry.txt\", \"r\")\n",
    "# content = f.read()\n",
    "\n",
    "for line in f:\n",
    "    print(line)\n"
   ]
  },
  {
   "cell_type": "markdown",
   "id": "a1922e03",
   "metadata": {},
   "source": [
    ".... to print each line in different line by iterating\n",
    ".... have to iterate f\n",
    ".... print take by default one \\n"
   ]
  },
  {
   "cell_type": "code",
   "execution_count": 31,
   "id": "5aaf1294",
   "metadata": {},
   "outputs": [
    {
     "name": "stdout",
     "output_type": "stream",
     "text": [
      "Harry is a good boy.\n",
      "la.. lala lala lalal lalal\n",
      "I am the king of universe"
     ]
    }
   ],
   "source": [
    "f = open(\"Harry.txt\", \"r\")\n",
    "# content = f.read()\n",
    "\n",
    "for line in f:\n",
    "    print(line, end=\"\")"
   ]
  },
  {
   "cell_type": "markdown",
   "id": "b3fa2401",
   "metadata": {},
   "source": []
  },
  {
   "cell_type": "code",
   "execution_count": 34,
   "id": "a7029816",
   "metadata": {},
   "outputs": [
    {
     "name": "stdout",
     "output_type": "stream",
     "text": [
      "Harry is a good boy.\n",
      "\n",
      "la.. lala lala lalal lalal\n",
      "\n"
     ]
    }
   ],
   "source": [
    "f = open(\"Harry.txt\", \"r\")\n",
    "print(f.readline())\n",
    "print(f.readline())"
   ]
  },
  {
   "cell_type": "markdown",
   "id": "d2d46a60",
   "metadata": {},
   "source": [
    ".... readline() function prints to print each line"
   ]
  },
  {
   "cell_type": "code",
   "execution_count": 35,
   "id": "36299128",
   "metadata": {},
   "outputs": [
    {
     "name": "stdout",
     "output_type": "stream",
     "text": [
      "['Harry is a good boy.\\n', 'la.. lala lala lalal lalal\\n', 'I am the king of universe']\n"
     ]
    }
   ],
   "source": [
    "f = open(\"Harry.txt\", \"r\")\n",
    "print(f.readlines())"
   ]
  },
  {
   "cell_type": "markdown",
   "id": "5dcc6974",
   "metadata": {},
   "source": [
    ".... print list of line present in text document"
   ]
  }
 ],
 "metadata": {
  "kernelspec": {
   "display_name": "Python 3 (ipykernel)",
   "language": "python",
   "name": "python3"
  },
  "language_info": {
   "codemirror_mode": {
    "name": "ipython",
    "version": 3
   },
   "file_extension": ".py",
   "mimetype": "text/x-python",
   "name": "python",
   "nbconvert_exporter": "python",
   "pygments_lexer": "ipython3",
   "version": "3.8.6"
  }
 },
 "nbformat": 4,
 "nbformat_minor": 5
}
