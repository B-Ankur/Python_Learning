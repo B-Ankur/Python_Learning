{
 "cells": [
  {
   "cell_type": "markdown",
   "id": "255905aa",
   "metadata": {},
   "source": [
    "# while loop"
   ]
  },
  {
   "cell_type": "markdown",
   "id": "98f1d9b5",
   "metadata": {},
   "source": [
    "since condition is false, instruction inside loop will not execute"
   ]
  },
  {
   "cell_type": "code",
   "execution_count": 2,
   "id": "30638fa4",
   "metadata": {},
   "outputs": [],
   "source": [
    "i = 0\n",
    "while i>10:\n",
    "    print(\"Yes\")"
   ]
  },
  {
   "cell_type": "code",
   "execution_count": null,
   "id": "c754e1d7",
   "metadata": {},
   "outputs": [],
   "source": [
    "Below program is infinite loop."
   ]
  },
  {
   "cell_type": "code",
   "execution_count": null,
   "id": "6c1550f4",
   "metadata": {},
   "outputs": [],
   "source": [
    "i = 0\n",
    "while i<10:\n",
    "    print(\"Yes\")"
   ]
  },
  {
   "cell_type": "code",
   "execution_count": 5,
   "id": "f721d0a7",
   "metadata": {},
   "outputs": [
    {
     "name": "stdout",
     "output_type": "stream",
     "text": [
      "Yes: 0\n",
      "Yes: 1\n",
      "Yes: 2\n",
      "Yes: 3\n",
      "Yes: 4\n",
      "Yes: 5\n",
      "Yes: 6\n",
      "Yes: 7\n",
      "Yes: 8\n",
      "Yes: 9\n",
      "done\n"
     ]
    }
   ],
   "source": [
    "i = 0\n",
    "while i<10:\n",
    "    print(\"Yes: \" + str(i))\n",
    "    i = i + 1\n",
    "\n",
    "print(\"done\")"
   ]
  },
  {
   "cell_type": "markdown",
   "id": "04445511",
   "metadata": {},
   "source": [
    "Program to print 1 to 50 using a while loop"
   ]
  },
  {
   "cell_type": "code",
   "execution_count": 14,
   "id": "a4258dc7",
   "metadata": {},
   "outputs": [
    {
     "name": "stdout",
     "output_type": "stream",
     "text": [
      "0\n",
      "1\n",
      "2\n",
      "3\n",
      "4\n",
      "5\n",
      "6\n",
      "7\n",
      "8\n",
      "9\n",
      "10\n",
      "11\n",
      "12\n",
      "13\n",
      "14\n",
      "15\n",
      "16\n",
      "17\n",
      "18\n",
      "19\n",
      "20\n",
      "21\n",
      "22\n",
      "23\n",
      "24\n",
      "25\n",
      "26\n",
      "27\n",
      "28\n",
      "29\n",
      "30\n",
      "31\n",
      "32\n",
      "33\n",
      "34\n",
      "35\n",
      "36\n",
      "37\n",
      "38\n",
      "39\n",
      "40\n",
      "41\n",
      "42\n",
      "43\n",
      "44\n",
      "45\n",
      "46\n",
      "47\n",
      "48\n",
      "49\n",
      "50\n"
     ]
    }
   ],
   "source": [
    "i = 0\n",
    "while i<=50:\n",
    "    print(i)\n",
    "    i = i+1"
   ]
  },
  {
   "cell_type": "code",
   "execution_count": 15,
   "id": "6c9e66dc",
   "metadata": {},
   "outputs": [
    {
     "name": "stdout",
     "output_type": "stream",
     "text": [
      "Banana\n",
      "Mango\n",
      "Grapes\n",
      "Apple\n",
      "Chikoo\n"
     ]
    }
   ],
   "source": [
    "fruits = ['Banana','Mango','Grapes','Apple', 'Chikoo']\n",
    "i= 0\n",
    "while i<len(fruits):\n",
    "    print(fruits[i])\n",
    "    i = i + 1"
   ]
  },
  {
   "cell_type": "code",
   "execution_count": 16,
   "id": "45bf1ff8",
   "metadata": {},
   "outputs": [
    {
     "name": "stdout",
     "output_type": "stream",
     "text": [
      "5\n"
     ]
    }
   ],
   "source": [
    "fruits = ['Banana','Mango','Grapes','Apple', 'Chikoo']\n",
    "print(len(fruits))"
   ]
  },
  {
   "cell_type": "markdown",
   "id": "cbd8f01a",
   "metadata": {},
   "source": [
    "# for loop"
   ]
  },
  {
   "cell_type": "code",
   "execution_count": 22,
   "id": "69a2a0d1",
   "metadata": {},
   "outputs": [
    {
     "name": "stdout",
     "output_type": "stream",
     "text": [
      "Banana\n",
      "Mango\n",
      "Grapes\n",
      "Apple\n",
      "Chikoo\n"
     ]
    }
   ],
   "source": [
    "fruits = ['Banana','Mango','Grapes','Apple', 'Chikoo']\n",
    "\n",
    "for items in fruits:\n",
    "    print(items)"
   ]
  },
  {
   "cell_type": "code",
   "execution_count": 23,
   "id": "52d835fb",
   "metadata": {},
   "outputs": [
    {
     "name": "stdout",
     "output_type": "stream",
     "text": [
      "1\n",
      "2\n",
      "3\n",
      "4\n",
      "5\n",
      "6\n",
      "7\n"
     ]
    }
   ],
   "source": [
    "for i in range(1,8):\n",
    "    print(i)"
   ]
  },
  {
   "cell_type": "markdown",
   "id": "dc5d8009",
   "metadata": {},
   "source": [
    "# Range function"
   ]
  },
  {
   "cell_type": "code",
   "execution_count": 25,
   "id": "0c59f293",
   "metadata": {},
   "outputs": [
    {
     "name": "stdout",
     "output_type": "stream",
     "text": [
      "1\n",
      "3\n",
      "5\n",
      "7\n",
      "9\n",
      "This is inside else of for\n"
     ]
    }
   ],
   "source": [
    "for i in range(1,10,2):\n",
    "    print(i)\n",
    "else:\n",
    "    print(\"This is inside else of for\")"
   ]
  },
  {
   "cell_type": "markdown",
   "id": "01c28709",
   "metadata": {},
   "source": [
    "# break instruction"
   ]
  },
  {
   "cell_type": "code",
   "execution_count": 29,
   "id": "2d7bebfc",
   "metadata": {},
   "outputs": [
    {
     "name": "stdout",
     "output_type": "stream",
     "text": [
      "0\n",
      "1\n",
      "2\n",
      "3\n",
      "4\n",
      "5\n"
     ]
    }
   ],
   "source": [
    "for i in range(10):\n",
    "    print(i)\n",
    "    if i == 5:\n",
    "        break         # break will exit loop\n",
    "else:\n",
    "    print(\"This is inside else of for\")"
   ]
  },
  {
   "cell_type": "markdown",
   "id": "a7586078",
   "metadata": {},
   "source": [
    "# continue statement"
   ]
  },
  {
   "cell_type": "code",
   "execution_count": 32,
   "id": "0fefe775",
   "metadata": {},
   "outputs": [
    {
     "name": "stdout",
     "output_type": "stream",
     "text": [
      "0\n",
      "1\n",
      "2\n",
      "3\n",
      "4\n",
      "6\n",
      "7\n",
      "8\n",
      "9\n"
     ]
    }
   ],
   "source": [
    "for i in range(10):\n",
    "      if i == 5:\n",
    "        continue  # will skip for iteration i = 5       \n",
    "      print(i)"
   ]
  },
  {
   "cell_type": "code",
   "execution_count": null,
   "id": "f47bacdb",
   "metadata": {},
   "outputs": [],
   "source": [
    "for i in range(10):\n",
    "      if i == 5:\n",
    "        continue  # will skip for iteration i = 5       \n",
    "      print(i)"
   ]
  },
  {
   "cell_type": "markdown",
   "id": "b3bbc2bd",
   "metadata": {},
   "source": [
    "# pass statement"
   ]
  },
  {
   "cell_type": "markdown",
   "id": "f6c2f55a",
   "metadata": {},
   "source": [
    "Pass is a null statement in python. It instructs to do nothing."
   ]
  },
  {
   "cell_type": "code",
   "execution_count": 33,
   "id": "32995bd5",
   "metadata": {},
   "outputs": [
    {
     "name": "stdout",
     "output_type": "stream",
     "text": [
      "Harry is good\n"
     ]
    }
   ],
   "source": [
    "i = 4\n",
    "if i>0:\n",
    "    pass\n",
    "print(\"Harry is good\")"
   ]
  },
  {
   "cell_type": "markdown",
   "id": "ceba037c",
   "metadata": {},
   "source": [
    "# Examples"
   ]
  },
  {
   "cell_type": "code",
   "execution_count": 2,
   "id": "b2886edc",
   "metadata": {},
   "outputs": [
    {
     "name": "stdout",
     "output_type": "stream",
     "text": [
      "Enter the numbers whos multiplication is to be displayed2\n",
      "2 X 1 = 2\n",
      "2 X 2 = 4\n",
      "2 X 3 = 6\n",
      "2 X 4 = 8\n",
      "2 X 5 = 10\n",
      "2 X 6 = 12\n",
      "2 X 7 = 14\n",
      "2 X 8 = 16\n",
      "2 X 9 = 18\n",
      "2 X 10 = 20\n"
     ]
    }
   ],
   "source": [
    "num = int(input(\"Enter the numbers whos multiplication is to be displayed\"))\n",
    "for i in range(1,11):\n",
    "    print(f\"{num} X {i} = {num*i}\")"
   ]
  },
  {
   "cell_type": "code",
   "execution_count": 5,
   "id": "5e9360fc",
   "metadata": {},
   "outputs": [
    {
     "name": "stdout",
     "output_type": "stream",
     "text": [
      "Enter the numbers whos multiplication is to be displayed2\n",
      "2 X 1 = 2\n",
      "2 X 2 = 4\n",
      "2 X 3 = 6\n",
      "2 X 4 = 8\n",
      "2 X 5 = 10\n",
      "2 X 6 = 12\n",
      "2 X 7 = 14\n",
      "2 X 8 = 16\n",
      "2 X 9 = 18\n",
      "2 X 10 = 20\n"
     ]
    }
   ],
   "source": [
    "num = int(input(\"Enter the numbers whos multiplication is to be displayed\"))\n",
    "for i in range(1,11):\n",
    "    print(str(num) + \" X \" + str(i) + \" = \" + str(i*num))"
   ]
  },
  {
   "cell_type": "code",
   "execution_count": 13,
   "id": "0c884ab3",
   "metadata": {},
   "outputs": [
    {
     "name": "stdout",
     "output_type": "stream",
     "text": [
      "Hello Sachin\n",
      "Hello Sehwag\n",
      "Hello Sourav\n"
     ]
    }
   ],
   "source": [
    "l1 = [\"Sachin\",\"Sehwag\",\"Rahul\",\"Sourav\"]\n",
    "\n",
    "for name in l1:\n",
    "    if name.startswith(\"S\"):\n",
    "        print(\"Hello \" + name)\n"
   ]
  },
  {
   "cell_type": "code",
   "execution_count": 22,
   "id": "7f3b9813",
   "metadata": {},
   "outputs": [
    {
     "name": "stdout",
     "output_type": "stream",
     "text": [
      "*\n",
      "**\n",
      "***\n",
      "****\n"
     ]
    }
   ],
   "source": [
    "\n",
    "for i in range(1,5):\n",
    "    print(\"*\" * i)"
   ]
  },
  {
   "cell_type": "code",
   "execution_count": 28,
   "id": "6f9f9541",
   "metadata": {},
   "outputs": [
    {
     "name": "stdout",
     "output_type": "stream",
     "text": [
      "  *  \n",
      " *** \n",
      "*****\n"
     ]
    }
   ],
   "source": [
    "n=3\n",
    "\n",
    "for i in range(3):\n",
    "    print(\" \" * (n-i-1), end = \"\")\n",
    "    print(\"*\" * (2*i+1), end = \"\")\n",
    "    print(\" \" * (n-i-1))"
   ]
  },
  {
   "cell_type": "code",
   "execution_count": null,
   "id": "27803db5",
   "metadata": {},
   "outputs": [],
   "source": []
  }
 ],
 "metadata": {
  "kernelspec": {
   "display_name": "Python 3 (ipykernel)",
   "language": "python",
   "name": "python3"
  },
  "language_info": {
   "codemirror_mode": {
    "name": "ipython",
    "version": 3
   },
   "file_extension": ".py",
   "mimetype": "text/x-python",
   "name": "python",
   "nbconvert_exporter": "python",
   "pygments_lexer": "ipython3",
   "version": "3.8.6"
  }
 },
 "nbformat": 4,
 "nbformat_minor": 5
}
