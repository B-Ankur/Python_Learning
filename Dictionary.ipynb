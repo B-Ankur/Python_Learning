{
 "cells": [
  {
   "cell_type": "markdown",
   "id": "14bd8fe9",
   "metadata": {},
   "source": [
    "# Dictionary"
   ]
  },
  {
   "cell_type": "markdown",
   "id": "cb8bb00a",
   "metadata": {},
   "source": [
    "Dictionary is a collection of key value pairs.\n",
    "\n",
    "Properties:\n",
    "1. Unordered\n",
    "2. Mutable\n",
    "3. Indexed\n",
    "4. Cannot contain duplicate keys"
   ]
  },
  {
   "cell_type": "code",
   "execution_count": 10,
   "id": "7f1a01e7",
   "metadata": {},
   "outputs": [
    {
     "name": "stdout",
     "output_type": "stream",
     "text": [
      "In a Quick Manner\n",
      "A Coder\n",
      "[1, 2, 5]\n"
     ]
    }
   ],
   "source": [
    "myDict = {\n",
    "    \"Fast\" : \"In a Quick Manner\",\n",
    "    \"Harry\" : \"A Coder\",\n",
    "    \"Marks\" : [1, 2, 5]\n",
    "}\n",
    "\n",
    "print(myDict['Fast'])\n",
    "print(myDict['Harry'])\n",
    "print(myDict['Marks'])"
   ]
  },
  {
   "cell_type": "markdown",
   "id": "74b24e8a",
   "metadata": {},
   "source": [
    "# Nested Dictionary"
   ]
  },
  {
   "cell_type": "code",
   "execution_count": 11,
   "id": "767e7372",
   "metadata": {},
   "outputs": [
    {
     "name": "stdout",
     "output_type": "stream",
     "text": [
      "In a Quick Manner\n",
      "A Coder\n",
      "[1, 2, 5]\n",
      "Player\n"
     ]
    }
   ],
   "source": [
    "myDict = {\n",
    "    \"Fast\" : \"In a Quick Manner\",\n",
    "    \"Harry\" : \"A Coder\",\n",
    "    \"Marks\" : [1, 2, 5],\n",
    "    \"anotherdict\" : {\"harry\": \"Player\"}\n",
    "}\n",
    "\n",
    "print(myDict['Fast'])\n",
    "print(myDict['Harry'])\n",
    "print(myDict['Marks'])\n",
    "print(myDict['anotherdict']['harry'])"
   ]
  },
  {
   "cell_type": "markdown",
   "id": "93f17ec2",
   "metadata": {},
   "source": [
    "# Dictionary Method"
   ]
  },
  {
   "cell_type": "markdown",
   "id": "ce70d720",
   "metadata": {},
   "source": [
    "keys : returns a keys containing values from the dictionary\n",
    "values : returns a values containing values from the dictionary \n",
    "items : returns a list (key & values) from the dictionary\n",
    "update : "
   ]
  },
  {
   "cell_type": "code",
   "execution_count": 30,
   "id": "0af2e634",
   "metadata": {},
   "outputs": [
    {
     "name": "stdout",
     "output_type": "stream",
     "text": [
      "['fast', 'harry', 'marks', 'anotherdict', 1]\n",
      "\n",
      "\n",
      "dict_keys(['fast', 'harry', 'marks', 'anotherdict', 1])\n",
      "dict_values(['In a Quick Manner', 'A Coder', [1, 2, 5], {'harry': 'Player'}, 2])\n",
      "dict_items([('fast', 'In a Quick Manner'), ('harry', 'A Coder'), ('marks', [1, 2, 5]), ('anotherdict', {'harry': 'Player'}), (1, 2)])\n",
      "\n",
      "\n",
      "{'fast': 'In a Quick Manner', 'harry': 'A Coder', 'marks': [1, 2, 5], 'anotherdict': {'harry': 'Player'}, 1: 2}\n",
      "\n",
      "\n",
      "{'fast': 'In a Quick Manner', 'harry': 'A Coder', 'marks': [1, 2, 5], 'anotherdict': {'harry': 'Player'}, 1: 2, 'Lovish': 'Friend'}\n"
     ]
    }
   ],
   "source": [
    "myDict = {\n",
    "    \"fast\" : \"In a Quick Manner\",\n",
    "    \"harry\" : \"A Coder\",\n",
    "    \"marks\" : [1, 2, 5],\n",
    "    \"anotherdict\" : {\"harry\": \"Player\"},\n",
    "    1 : 2\n",
    "    \n",
    "}\n",
    "\n",
    "print(list(myDict.keys())) # prints the key of the dictionary\n",
    "\n",
    "print(\"\\n\")\n",
    "\n",
    "print((myDict.keys())) # prints the key of the dictionary without typecasting\n",
    "print((myDict.values())) # prints the values of the dictionary without typecasting\n",
    "print((myDict.items())) # prints the Key,values of all content in the dictionary without typecasting\n",
    "\n",
    "print(\"\\n\")\n",
    "\n",
    "print(myDict)\n",
    "updateDict = {\n",
    "    \"Lovish\":\"Friend\"\n",
    "}\n",
    "\n",
    "print(\"\\n\")\n",
    "\n",
    "myDict.update(updateDict)\n",
    "print(myDict)"
   ]
  },
  {
   "cell_type": "code",
   "execution_count": 33,
   "id": "d7daa4a8",
   "metadata": {},
   "outputs": [],
   "source": [
    "# update"
   ]
  },
  {
   "cell_type": "code",
   "execution_count": 34,
   "id": "076f6a4f",
   "metadata": {},
   "outputs": [
    {
     "name": "stdout",
     "output_type": "stream",
     "text": [
      "{'fast': 'In a Quick Manner', 'harry': 'A Coder', 'marks': [1, 2, 5], 'anotherdict': {'harry': 'Player'}, 1: 2}\n",
      "\n",
      "\n",
      "{'fast': 'In a Quick Manner', 'harry': 'A Coder', 'marks': [1, 2, 5], 'anotherdict': {'harry': 'Player'}, 1: 2, 'Lovish': 'Friend'}\n"
     ]
    }
   ],
   "source": [
    "myDict = {\n",
    "    \"fast\" : \"In a Quick Manner\",\n",
    "    \"harry\" : \"A Coder\",\n",
    "    \"marks\" : [1, 2, 5],\n",
    "    \"anotherdict\" : {\"harry\": \"Player\"},\n",
    "    1 : 2\n",
    "    \n",
    "}\n",
    "\n",
    "print(myDict)\n",
    "\n",
    "updateDict = {\n",
    "    \"Lovish\":\"Friend\"\n",
    "}\n",
    "\n",
    "print(\"\\n\")\n",
    "\n",
    "myDict.update(updateDict) # update the existing dictionary by adding vallue-key pairs from updateDict\n",
    "print(myDict)"
   ]
  },
  {
   "cell_type": "markdown",
   "id": "474e9364",
   "metadata": {},
   "source": [
    "# Difference between .grt and [] syntax in Dictionaries"
   ]
  },
  {
   "cell_type": "code",
   "execution_count": 38,
   "id": "8aa33ce4",
   "metadata": {},
   "outputs": [
    {
     "name": "stdout",
     "output_type": "stream",
     "text": [
      "A Coder\n",
      "A Coder\n",
      "None\n"
     ]
    },
    {
     "ename": "KeyError",
     "evalue": "'harry2'",
     "output_type": "error",
     "traceback": [
      "\u001b[1;31m---------------------------------------------------------------------------\u001b[0m",
      "\u001b[1;31mKeyError\u001b[0m                                  Traceback (most recent call last)",
      "Input \u001b[1;32mIn [38]\u001b[0m, in \u001b[0;36m<cell line: 15>\u001b[1;34m()\u001b[0m\n\u001b[0;32m     11\u001b[0m \u001b[38;5;28mprint\u001b[39m(myDict[\u001b[38;5;124m\"\u001b[39m\u001b[38;5;124mharry\u001b[39m\u001b[38;5;124m\"\u001b[39m]) \u001b[38;5;66;03m# returns error if variable not present\u001b[39;00m\n\u001b[0;32m     14\u001b[0m \u001b[38;5;28mprint\u001b[39m(myDict\u001b[38;5;241m.\u001b[39mget(\u001b[38;5;124m\"\u001b[39m\u001b[38;5;124mharry2\u001b[39m\u001b[38;5;124m\"\u001b[39m)) \u001b[38;5;66;03m# returns none walue if variable not present\u001b[39;00m\n\u001b[1;32m---> 15\u001b[0m \u001b[38;5;28mprint\u001b[39m(\u001b[43mmyDict\u001b[49m\u001b[43m[\u001b[49m\u001b[38;5;124;43m\"\u001b[39;49m\u001b[38;5;124;43mharry2\u001b[39;49m\u001b[38;5;124;43m\"\u001b[39;49m\u001b[43m]\u001b[49m)\n",
      "\u001b[1;31mKeyError\u001b[0m: 'harry2'"
     ]
    }
   ],
   "source": [
    "myDict = {\n",
    "    \"fast\" : \"In a Quick Manner\",\n",
    "    \"harry\" : \"A Coder\",\n",
    "    \"marks\" : [1, 2, 5],\n",
    "    \"anotherdict\" : {\"harry\": \"Player\"},\n",
    "    1 : 2\n",
    "    \n",
    "}\n",
    "\n",
    "print(myDict.get(\"harry\")) # prints value associated with key-harry\n",
    "print(myDict[\"harry\"]) # prints value associated with key-harry\n",
    "\n",
    "\n",
    "print(myDict.get(\"harry2\")) # returns none walue if variable not present\n",
    "print(myDict[\"harry2\"]) # returns error if variable(harry2) not present"
   ]
  },
  {
   "cell_type": "raw",
   "id": "db97371f",
   "metadata": {},
   "source": [
    "# google python dictionary"
   ]
  },
  {
   "cell_type": "markdown",
   "id": "9fa4dbee",
   "metadata": {},
   "source": [
    "# Examnple"
   ]
  },
  {
   "cell_type": "code",
   "execution_count": 44,
   "id": "a8619039",
   "metadata": {},
   "outputs": [
    {
     "name": "stdout",
     "output_type": "stream",
     "text": [
      "Optins are: dict_keys(['Pankha', 'dabba'])\n",
      "Enter the Hindi word\n",
      "Pankha\n",
      "The meaning of this world is: Fan\n"
     ]
    }
   ],
   "source": [
    "myDict = {\n",
    "    \"Pankha\": \"Fan\",\n",
    "    \"dabba\":\"tiffin\"\n",
    "}\n",
    "\n",
    "print(\"Optins are:\",myDict.keys())\n",
    "a = input(\"Enter the Hindi word\\n\")\n",
    "print(\"The meaning of this world is:\", myDict[a])"
   ]
  },
  {
   "cell_type": "code",
   "execution_count": 3,
   "id": "5307753b",
   "metadata": {},
   "outputs": [
    {
     "name": "stdout",
     "output_type": "stream",
     "text": [
      "<class 'dict'>\n"
     ]
    }
   ],
   "source": [
    "s = {}\n",
    "print(type(s))"
   ]
  },
  {
   "cell_type": "code",
   "execution_count": 5,
   "id": "1845dced",
   "metadata": {},
   "outputs": [
    {
     "name": "stdout",
     "output_type": "stream",
     "text": [
      "Enter your favorite language Ae\n",
      "Enter your favorite language Bm\n",
      "Enter your favorite language Cb\n",
      "Enter your favorite language Bh\n",
      "{'Ankit': 'e', 'Bandu': 'm', 'Chandu': 'b', 'Dolly': 'h'}\n"
     ]
    }
   ],
   "source": [
    "favLang={}\n",
    "a = input(\"Enter your favorite language A\")\n",
    "b = input(\"Enter your favorite language B\")\n",
    "c = input(\"Enter your favorite language C\")\n",
    "d = input(\"Enter your favorite language B\")\n",
    "\n",
    "favLang['Ankit'] = a\n",
    "favLang['Bandu'] = b\n",
    "favLang['Chandu'] = c\n",
    "favLang['Dolly'] = d\n",
    "\n",
    "print(favLang)\n",
    "\n"
   ]
  },
  {
   "cell_type": "code",
   "execution_count": null,
   "id": "ad326f3d",
   "metadata": {},
   "outputs": [],
   "source": []
  }
 ],
 "metadata": {
  "kernelspec": {
   "display_name": "Python 3 (ipykernel)",
   "language": "python",
   "name": "python3"
  },
  "language_info": {
   "codemirror_mode": {
    "name": "ipython",
    "version": 3
   },
   "file_extension": ".py",
   "mimetype": "text/x-python",
   "name": "python",
   "nbconvert_exporter": "python",
   "pygments_lexer": "ipython3",
   "version": "3.8.6"
  }
 },
 "nbformat": 4,
 "nbformat_minor": 5
}
