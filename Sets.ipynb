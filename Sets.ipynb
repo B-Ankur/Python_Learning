{
 "cells": [
  {
   "cell_type": "markdown",
   "id": "aa9bf9e0",
   "metadata": {},
   "source": [
    "# Set is a collection of non repitetive elements"
   ]
  },
  {
   "cell_type": "code",
   "execution_count": null,
   "id": "fd1580d4",
   "metadata": {},
   "outputs": [],
   "source": [
    "a = {1,2,3,1,4,5}\n",
    "print(type(a))\n",
    "print(a)\n"
   ]
  },
  {
   "cell_type": "code",
   "execution_count": 4,
   "id": "c57d8652",
   "metadata": {},
   "outputs": [
    {
     "name": "stdout",
     "output_type": "stream",
     "text": [
      "<class 'dict'>\n"
     ]
    }
   ],
   "source": [
    "a = {}      # Empty curly braces shows dictionary, not set\n",
    "print(type(a))"
   ]
  },
  {
   "cell_type": "markdown",
   "id": "99a6f753",
   "metadata": {},
   "source": [
    "# Empty set"
   ]
  },
  {
   "cell_type": "code",
   "execution_count": 5,
   "id": "57760477",
   "metadata": {},
   "outputs": [
    {
     "name": "stdout",
     "output_type": "stream",
     "text": [
      "<class 'set'>\n"
     ]
    }
   ],
   "source": [
    "b = set()\n",
    "print(type(b))"
   ]
  },
  {
   "cell_type": "markdown",
   "id": "11a3b59a",
   "metadata": {},
   "source": [
    "# Set methods\n",
    ".add\n",
    ".len\n",
    ".remove\n",
    ".clear\n",
    ".union\n",
    ".intersection"
   ]
  },
  {
   "cell_type": "code",
   "execution_count": 12,
   "id": "0e7559a6",
   "metadata": {},
   "outputs": [
    {
     "name": "stdout",
     "output_type": "stream",
     "text": [
      "{4, 6, 'add'}\n"
     ]
    }
   ],
   "source": [
    "b = set()\n",
    "\n",
    "b.add(4)\n",
    "b.add(6)\n",
    "b.add('add')\n",
    "b.add(4)\n",
    "\n",
    "print(b)"
   ]
  },
  {
   "cell_type": "markdown",
   "id": "ea19d77a",
   "metadata": {},
   "source": [
    "# list cannot be inserted in Sets"
   ]
  },
  {
   "cell_type": "code",
   "execution_count": 16,
   "id": "d228132d",
   "metadata": {},
   "outputs": [
    {
     "ename": "TypeError",
     "evalue": "unhashable type: 'list'",
     "output_type": "error",
     "traceback": [
      "\u001b[1;31m---------------------------------------------------------------------------\u001b[0m",
      "\u001b[1;31mTypeError\u001b[0m                                 Traceback (most recent call last)",
      "Input \u001b[1;32mIn [16]\u001b[0m, in \u001b[0;36m<cell line: 4>\u001b[1;34m()\u001b[0m\n\u001b[0;32m      1\u001b[0m b \u001b[38;5;241m=\u001b[39m \u001b[38;5;28mset\u001b[39m()\n\u001b[0;32m      3\u001b[0m b\u001b[38;5;241m.\u001b[39madd(\u001b[38;5;241m4\u001b[39m)\n\u001b[1;32m----> 4\u001b[0m \u001b[43mb\u001b[49m\u001b[38;5;241;43m.\u001b[39;49m\u001b[43madd\u001b[49m\u001b[43m(\u001b[49m\u001b[43m[\u001b[49m\u001b[38;5;241;43m4\u001b[39;49m\u001b[43m,\u001b[49m\u001b[38;5;241;43m5\u001b[39;49m\u001b[43m,\u001b[49m\u001b[38;5;241;43m6\u001b[39;49m\u001b[43m]\u001b[49m\u001b[43m)\u001b[49m\n\u001b[0;32m      6\u001b[0m \u001b[38;5;28mprint\u001b[39m(b)\n",
      "\u001b[1;31mTypeError\u001b[0m: unhashable type: 'list'"
     ]
    }
   ],
   "source": [
    "b = set()\n",
    "\n",
    "b.add(4)\n",
    "b.add([4,5,6])\n",
    "\n",
    "print(b)"
   ]
  },
  {
   "cell_type": "markdown",
   "id": "9d423ae1",
   "metadata": {},
   "source": [
    "# tupple can be inserted in Sets"
   ]
  },
  {
   "cell_type": "code",
   "execution_count": 18,
   "id": "42f22532",
   "metadata": {},
   "outputs": [
    {
     "name": "stdout",
     "output_type": "stream",
     "text": [
      "{4, 'addition', (4, 5, 6)}\n"
     ]
    }
   ],
   "source": [
    "b = set()\n",
    "\n",
    "b.add(4)\n",
    "b.add((4,5,6))\n",
    "b.add(4)\n",
    "b.add('addition')\n",
    "\n",
    "print(b)"
   ]
  },
  {
   "cell_type": "markdown",
   "id": "7da55b64",
   "metadata": {},
   "source": [
    "# dictionary cannot be inserted in Sets"
   ]
  },
  {
   "cell_type": "code",
   "execution_count": 19,
   "id": "f0a29eb7",
   "metadata": {},
   "outputs": [
    {
     "ename": "TypeError",
     "evalue": "unhashable type: 'dict'",
     "output_type": "error",
     "traceback": [
      "\u001b[1;31m---------------------------------------------------------------------------\u001b[0m",
      "\u001b[1;31mTypeError\u001b[0m                                 Traceback (most recent call last)",
      "Input \u001b[1;32mIn [19]\u001b[0m, in \u001b[0;36m<cell line: 6>\u001b[1;34m()\u001b[0m\n\u001b[0;32m      4\u001b[0m b\u001b[38;5;241m.\u001b[39madd((\u001b[38;5;241m4\u001b[39m,\u001b[38;5;241m5\u001b[39m,\u001b[38;5;241m6\u001b[39m))\n\u001b[0;32m      5\u001b[0m b\u001b[38;5;241m.\u001b[39madd(\u001b[38;5;241m4\u001b[39m)\n\u001b[1;32m----> 6\u001b[0m \u001b[43mb\u001b[49m\u001b[38;5;241;43m.\u001b[39;49m\u001b[43madd\u001b[49m\u001b[43m(\u001b[49m\u001b[43m{\u001b[49m\u001b[38;5;241;43m4\u001b[39;49m\u001b[43m:\u001b[49m\u001b[38;5;241;43m5\u001b[39;49m\u001b[43m}\u001b[49m\u001b[43m)\u001b[49m\n\u001b[0;32m      8\u001b[0m \u001b[38;5;28mprint\u001b[39m(b)\n",
      "\u001b[1;31mTypeError\u001b[0m: unhashable type: 'dict'"
     ]
    }
   ],
   "source": [
    "b = set()\n",
    "\n",
    "b.add(4)\n",
    "b.add((4,5,6))\n",
    "b.add(4)\n",
    "b.add({4:5})\n",
    "\n",
    "print(b)"
   ]
  },
  {
   "cell_type": "markdown",
   "id": "953c236f",
   "metadata": {},
   "source": [
    "# Length of the set"
   ]
  },
  {
   "cell_type": "code",
   "execution_count": 20,
   "id": "12c68c82",
   "metadata": {},
   "outputs": [
    {
     "name": "stdout",
     "output_type": "stream",
     "text": [
      "2\n"
     ]
    }
   ],
   "source": [
    "b = set()\n",
    "\n",
    "b.add(4)\n",
    "b.add((4,5,6))\n",
    "b.add(4)\n",
    "\n",
    "print(len(b))"
   ]
  },
  {
   "cell_type": "markdown",
   "id": "42819a3b",
   "metadata": {},
   "source": [
    "# Removal of an Item"
   ]
  },
  {
   "cell_type": "code",
   "execution_count": 29,
   "id": "29591ec1",
   "metadata": {},
   "outputs": [
    {
     "name": "stdout",
     "output_type": "stream",
     "text": [
      "{10, 11, 18, (4, 5, 6)}\n"
     ]
    }
   ],
   "source": [
    "b = set()\n",
    "\n",
    "b.add(10)\n",
    "b.add(11)\n",
    "b.add(12)\n",
    "b.add((4,5,6))\n",
    "b.add(18)\n",
    "b.remove(12) # removes 5 from set b\n",
    "\n",
    "print(b)"
   ]
  },
  {
   "cell_type": "code",
   "execution_count": 31,
   "id": "7a32afd2",
   "metadata": {},
   "outputs": [
    {
     "ename": "KeyError",
     "evalue": "222",
     "output_type": "error",
     "traceback": [
      "\u001b[1;31m---------------------------------------------------------------------------\u001b[0m",
      "\u001b[1;31mKeyError\u001b[0m                                  Traceback (most recent call last)",
      "Input \u001b[1;32mIn [31]\u001b[0m, in \u001b[0;36m<cell line: 8>\u001b[1;34m()\u001b[0m\n\u001b[0;32m      6\u001b[0m b\u001b[38;5;241m.\u001b[39madd((\u001b[38;5;241m4\u001b[39m,\u001b[38;5;241m5\u001b[39m,\u001b[38;5;241m6\u001b[39m))\n\u001b[0;32m      7\u001b[0m b\u001b[38;5;241m.\u001b[39madd(\u001b[38;5;241m18\u001b[39m)\n\u001b[1;32m----> 8\u001b[0m \u001b[43mb\u001b[49m\u001b[38;5;241;43m.\u001b[39;49m\u001b[43mremove\u001b[49m\u001b[43m(\u001b[49m\u001b[38;5;241;43m222\u001b[39;49m\u001b[43m)\u001b[49m \u001b[38;5;66;03m# trhows error as 222 is not present in set b\u001b[39;00m\n\u001b[0;32m     10\u001b[0m \u001b[38;5;28mprint\u001b[39m(b)\n",
      "\u001b[1;31mKeyError\u001b[0m: 222"
     ]
    }
   ],
   "source": [
    "b = set()\n",
    "\n",
    "b.add(10)\n",
    "b.add(11)\n",
    "b.add(12)\n",
    "b.add((4,5,6))\n",
    "b.add(18)\n",
    "b.remove(222) # trhows error as 222 is not present in set b\n",
    "\n",
    "print(b)"
   ]
  },
  {
   "cell_type": "markdown",
   "id": "91ea1d5c",
   "metadata": {},
   "source": [
    "# Removes an arbitary element and returns the removed element"
   ]
  },
  {
   "cell_type": "code",
   "execution_count": 37,
   "id": "0c5dc582",
   "metadata": {},
   "outputs": [
    {
     "name": "stdout",
     "output_type": "stream",
     "text": [
      "10\n"
     ]
    }
   ],
   "source": [
    "b = set()\n",
    "\n",
    "b.add(10)\n",
    "b.add(11)\n",
    "b.add(12)\n",
    "\n",
    "\n",
    "print(b.pop())"
   ]
  },
  {
   "cell_type": "code",
   "execution_count": null,
   "id": "9eddbdbe",
   "metadata": {},
   "outputs": [],
   "source": [
    "# properties of Sets:\n",
    "1. unordered\n",
    "2. unindexed\n",
    "3. no way to change items in sets\n",
    "4. cannot contain duplicate values"
   ]
  },
  {
   "cell_type": "code",
   "execution_count": null,
   "id": "5b8a1540",
   "metadata": {},
   "outputs": [],
   "source": [
    "unhasable types???? thins that can change over a time"
   ]
  },
  {
   "cell_type": "code",
   "execution_count": null,
   "id": "4f0fe327",
   "metadata": {},
   "outputs": [],
   "source": []
  },
  {
   "cell_type": "markdown",
   "id": "1da55cd6",
   "metadata": {},
   "source": [
    "# Example"
   ]
  },
  {
   "cell_type": "code",
   "execution_count": 1,
   "id": "732c3395",
   "metadata": {},
   "outputs": [
    {
     "name": "stdout",
     "output_type": "stream",
     "text": [
      "Enter 4 digits\n",
      "Enter number 1: 2\n",
      "Enter number 2: 1\n",
      "Enter number 3: a\n",
      "Enter number 4: 5\n",
      "{'a', '1', '2', '5'}\n"
     ]
    }
   ],
   "source": [
    "print(\"Enter 4 digits\")\n",
    "num1 = input(\"Enter number 1: \")\n",
    "num2 = input(\"Enter number 2: \")\n",
    "num3 = input(\"Enter number 3: \")\n",
    "num4 = input(\"Enter number 4: \")\n",
    "\n",
    "s = {num1, num2, num3, num4}\n",
    "print(s)"
   ]
  },
  {
   "cell_type": "code",
   "execution_count": 3,
   "id": "68b3b50c",
   "metadata": {},
   "outputs": [
    {
     "name": "stdout",
     "output_type": "stream",
     "text": [
      "{18, 18.1, '18'}\n"
     ]
    }
   ],
   "source": [
    "s = {18,\"18\",18.1}\n",
    "print(s)"
   ]
  },
  {
   "cell_type": "code",
   "execution_count": 6,
   "id": "71212ec4",
   "metadata": {},
   "outputs": [
    {
     "name": "stdout",
     "output_type": "stream",
     "text": [
      "2\n"
     ]
    }
   ],
   "source": [
    "s = {20,20.0,\"20\"}\n",
    "print(len(s))"
   ]
  },
  {
   "cell_type": "code",
   "execution_count": 9,
   "id": "be301029",
   "metadata": {},
   "outputs": [
    {
     "name": "stdout",
     "output_type": "stream",
     "text": [
      "<class 'dict'>\n"
     ]
    }
   ],
   "source": [
    "s = {}\n",
    "print(type(s))"
   ]
  },
  {
   "cell_type": "code",
   "execution_count": 10,
   "id": "ea0c6ffe",
   "metadata": {},
   "outputs": [
    {
     "name": "stdout",
     "output_type": "stream",
     "text": [
      "<class 'tuple'>\n"
     ]
    }
   ],
   "source": [
    "s = ()\n",
    "print(type(s))"
   ]
  },
  {
   "cell_type": "code",
   "execution_count": null,
   "id": "d077306b",
   "metadata": {},
   "outputs": [],
   "source": []
  }
 ],
 "metadata": {
  "kernelspec": {
   "display_name": "Python 3 (ipykernel)",
   "language": "python",
   "name": "python3"
  },
  "language_info": {
   "codemirror_mode": {
    "name": "ipython",
    "version": 3
   },
   "file_extension": ".py",
   "mimetype": "text/x-python",
   "name": "python",
   "nbconvert_exporter": "python",
   "pygments_lexer": "ipython3",
   "version": "3.8.6"
  }
 },
 "nbformat": 4,
 "nbformat_minor": 5
}
